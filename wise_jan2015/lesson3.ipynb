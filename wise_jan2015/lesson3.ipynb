{
 "metadata": {
  "name": "",
  "signature": "sha256:b503573fc911a9a97cc33ebc7dc01608a9187666cee5ac42759469a7f74a3479"
 },
 "nbformat": 3,
 "nbformat_minor": 0,
 "worksheets": [
  {
   "cells": [
    {
     "cell_type": "code",
     "collapsed": false,
     "input": [
      "length=0\n",
      "\n",
      "for werioh in 'ssdfoih9dog':\n",
      "    length=length+1\n",
      "    \n",
      "print 'there are', length, 'vowels'"
     ],
     "language": "python",
     "metadata": {},
     "outputs": [
      {
       "output_type": "stream",
       "stream": "stdout",
       "text": [
        "there are 11 vowels\n"
       ]
      }
     ],
     "prompt_number": 4
    },
    {
     "cell_type": "markdown",
     "metadata": {},
     "source": [
      "est"
     ]
    },
    {
     "cell_type": "code",
     "collapsed": false,
     "input": [
      "letter='z'\n",
      "for letter in 'abc':\n",
      "    print letter\n",
      "    \n",
      "print 'after', letter "
     ],
     "language": "python",
     "metadata": {},
     "outputs": [
      {
       "output_type": "stream",
       "stream": "stdout",
       "text": [
        "a\n",
        "b\n",
        "c\n",
        "after c\n"
       ]
      }
     ],
     "prompt_number": 5
    },
    {
     "cell_type": "code",
     "collapsed": false,
     "input": [
      "range(3,12)"
     ],
     "language": "python",
     "metadata": {},
     "outputs": [
      {
       "metadata": {},
       "output_type": "pyout",
       "prompt_number": 8,
       "text": [
        "[3, 4, 5, 6, 7, 8, 9, 10, 11]"
       ]
      }
     ],
     "prompt_number": 8
    },
    {
     "cell_type": "code",
     "collapsed": false,
     "input": [
      "a=0\n",
      "\n",
      "def getThisNum(num):\n",
      "    for a in range(num):\n",
      "        a= a +1\n",
      "        print a\n",
      "    \n"
     ],
     "language": "python",
     "metadata": {},
     "outputs": [],
     "prompt_number": 16
    },
    {
     "cell_type": "code",
     "collapsed": false,
     "input": [
      "getThisNum(5)"
     ],
     "language": "python",
     "metadata": {},
     "outputs": [
      {
       "output_type": "stream",
       "stream": "stdout",
       "text": [
        "1\n",
        "2\n",
        "3\n",
        "4\n",
        "5\n"
       ]
      }
     ],
     "prompt_number": 17
    },
    {
     "cell_type": "code",
     "collapsed": false,
     "input": [
      "def expo(number,exponent):\n",
      "    '''this function will calculate the exponential value of a number\n",
      "    and given the number and its associated exponent'''\n",
      "    newNum=number\n",
      "    for a in range((exponent-1)):\n",
      "        newNum=number*newNum\n",
      "    return newNum    \n",
      "        "
     ],
     "language": "python",
     "metadata": {},
     "outputs": [],
     "prompt_number": 21
    },
    {
     "cell_type": "code",
     "collapsed": false,
     "input": [
      "expo(10,3)"
     ],
     "language": "python",
     "metadata": {},
     "outputs": [
      {
       "metadata": {},
       "output_type": "pyout",
       "prompt_number": 23,
       "text": [
        "1000"
       ]
      }
     ],
     "prompt_number": 23
    },
    {
     "cell_type": "code",
     "collapsed": false,
     "input": [
      "def expo(aString):\n",
      "    '''this function will take a string and will print it backwards'''\n",
      "    location=0\n",
      "    fin=''\n",
      "    for char in aString:\n",
      "        location=location+1\n",
      "        fin=fin+aString[-location]\n",
      "    return fin        \n",
      "expo('PatUtie')        "
     ],
     "language": "python",
     "metadata": {},
     "outputs": [
      {
       "metadata": {},
       "output_type": "pyout",
       "prompt_number": 30,
       "text": [
        "'eitUtaP'"
       ]
      }
     ],
     "prompt_number": 30
    },
    {
     "cell_type": "code",
     "collapsed": false,
     "input": [
      "alist=['one','two','three']"
     ],
     "language": "python",
     "metadata": {},
     "outputs": [],
     "prompt_number": 33
    },
    {
     "cell_type": "code",
     "collapsed": false,
     "input": [
      "alist.append(11)"
     ],
     "language": "python",
     "metadata": {},
     "outputs": [],
     "prompt_number": 35
    },
    {
     "cell_type": "code",
     "collapsed": false,
     "input": [
      "del alist[1]\n"
     ],
     "language": "python",
     "metadata": {},
     "outputs": [],
     "prompt_number": 37
    },
    {
     "cell_type": "code",
     "collapsed": false,
     "input": [
      "alist\n"
     ],
     "language": "python",
     "metadata": {},
     "outputs": [
      {
       "metadata": {},
       "output_type": "pyout",
       "prompt_number": 38,
       "text": [
        "['one', 'three', 11]"
       ]
      }
     ],
     "prompt_number": 38
    },
    {
     "cell_type": "code",
     "collapsed": false,
     "input": [
      "alist.reverse()"
     ],
     "language": "python",
     "metadata": {},
     "outputs": [],
     "prompt_number": 39
    },
    {
     "cell_type": "code",
     "collapsed": false,
     "input": [
      "alist\n"
     ],
     "language": "python",
     "metadata": {},
     "outputs": [
      {
       "metadata": {},
       "output_type": "pyout",
       "prompt_number": 40,
       "text": [
        "[11, 'three', 'one']"
       ]
      }
     ],
     "prompt_number": 40
    },
    {
     "cell_type": "code",
     "collapsed": false,
     "input": [
      "import glob as g"
     ],
     "language": "python",
     "metadata": {},
     "outputs": [],
     "prompt_number": 43
    },
    {
     "cell_type": "code",
     "collapsed": false,
     "input": [
      "print g.glob('*ipynb')"
     ],
     "language": "python",
     "metadata": {},
     "outputs": [
      {
       "output_type": "stream",
       "stream": "stdout",
       "text": [
        "['01-numpy.ipynb', \"Leah's test code.ipynb\", 'lesson2-functions.ipynb', 'lesson3.ipynb', 'SC_Python01_Numpy.ipynb']\n"
       ]
      }
     ],
     "prompt_number": 44
    },
    {
     "cell_type": "code",
     "collapsed": false,
     "input": [
      "print g.glob('*.csv')"
     ],
     "language": "python",
     "metadata": {},
     "outputs": [
      {
       "output_type": "stream",
       "stream": "stdout",
       "text": [
        "[]\n"
       ]
      }
     ],
     "prompt_number": 45
    },
    {
     "cell_type": "code",
     "collapsed": false,
     "input": [
      "def total(alist):\n",
      "    tot=0\n",
      "    for element in alist:\n",
      "        tot=tot+element\n",
      "    return tot\n",
      "\n",
      "poo=[2,3,4,5,6,3]\n",
      "total(poo)"
     ],
     "language": "python",
     "metadata": {},
     "outputs": [
      {
       "metadata": {},
       "output_type": "pyout",
       "prompt_number": 46,
       "text": [
        "23"
       ]
      }
     ],
     "prompt_number": 46
    },
    {
     "cell_type": "code",
     "collapsed": false,
     "input": [
      "#get the current working directory\n",
      "import os\n",
      "os.getcwd()\n",
      "#let's change the directory to where we stashed our python files\n",
      "os.chdir('c:\\\\Users\\\\lwasser\\\\Documents\\\\SoftwareCarpentry\\\\WisePython')"
     ],
     "language": "python",
     "metadata": {},
     "outputs": [],
     "prompt_number": 47
    },
    {
     "cell_type": "code",
     "collapsed": false,
     "input": [
      "print g.glob('*.csv')\n"
     ],
     "language": "python",
     "metadata": {},
     "outputs": [
      {
       "output_type": "stream",
       "stream": "stdout",
       "text": [
        "['inflammation-01 (2).csv', 'inflammation-01.csv', 'inflammation-02.csv', 'inflammation-03.csv', 'inflammation-04.csv', 'inflammation-05.csv', 'inflammation-06.csv', 'inflammation-07.csv', 'inflammation-08.csv', 'inflammation-09.csv', 'inflammation-10.csv', 'inflammation-11.csv', 'inflammation-12.csv', 'small-01.csv', 'small-02.csv', 'small-03.csv']\n"
       ]
      }
     ],
     "prompt_number": 48
    },
    {
     "cell_type": "code",
     "collapsed": false,
     "input": [
      "#define analyze function\n",
      "\n",
      "from matplotlib import pyplot as plt\n",
      "\n",
      "def analyze(fileName):\n",
      "    '''this function will create three plots: mean, min and max over time'''\n",
      "    tempData = np.loadtxt(fname=fileName,delimiter=',')\n",
      "    \n",
      "    plt.figure(figsize=(10.0,3.0))\n",
      "    \n",
      "    plt.subplot(131)\n",
      "    plt.ylabel('average')\n",
      "    plt.plot(tempData.mean(0))\n",
      "    \n",
      "    plt.subplot(132)\n",
      "    plt.ylabel('min value')\n",
      "    plt.plot(tempData.min(0))\n",
      "    plt.ylim([0, (tempData.max())])\n",
      "    \n",
      "    plt.subplot(133)\n",
      "    plt.ylabel('max value')\n",
      "    plt.plot(tempData.max(0))\n",
      "    \n",
      "    plt.xlabel ('days')\n",
      "    plt.ylim([0, (tempData.max())])\n",
      "    plt.show()"
     ],
     "language": "python",
     "metadata": {},
     "outputs": [],
     "prompt_number": 49
    },
    {
     "cell_type": "code",
     "collapsed": false,
     "input": [
      "filenames =g.glob('*.csv')\n",
      "filenames =filenames[0:3]"
     ],
     "language": "python",
     "metadata": {},
     "outputs": [],
     "prompt_number": 55
    },
    {
     "cell_type": "code",
     "collapsed": false,
     "input": [
      "filenames"
     ],
     "language": "python",
     "metadata": {},
     "outputs": [
      {
       "metadata": {},
       "output_type": "pyout",
       "prompt_number": 56,
       "text": [
        "['inflammation-01.csv', 'inflammation-02.csv', 'inflammation-03.csv']"
       ]
      }
     ],
     "prompt_number": 56
    },
    {
     "cell_type": "code",
     "collapsed": false,
     "input": [
      "import numpy as np\n",
      "\n",
      "%matplotlib inline\n",
      "from matplotlib import pyplot as plt\n",
      "\n",
      "for f in filenames:\n",
      "    print f\n",
      "    analyze(f)"
     ],
     "language": "python",
     "metadata": {},
     "outputs": [
      {
       "output_type": "stream",
       "stream": "stdout",
       "text": [
        "inflammation-01.csv\n"
       ]
      },
      {
       "metadata": {},
       "output_type": "display_data",
       "png": "[encoded data removed]",
       "text": [
        "<matplotlib.figure.Figure at 0xca67b38>"
       ]
      },
      {
       "output_type": "stream",
       "stream": "stdout",
       "text": [
        "inflammation-02.csv\n"
       ]
      },
      {
       "metadata": {},
       "output_type": "display_data",
       "png": "[encoded data removed]",
       "text": [
        "<matplotlib.figure.Figure at 0xe011ef0>"
       ]
      },
      {
       "output_type": "stream",
       "stream": "stdout",
       "text": [
        "inflammation-03.csv\n"
       ]
      },
      {
       "metadata": {},
       "output_type": "display_data",
       "png": "[encoded data removed]",
       "text": [
        "<matplotlib.figure.Figure at 0xac48828>"
       ]
      }
     ],
     "prompt_number": 61
    },
    {
     "cell_type": "code",
     "collapsed": false,
     "input": [],
     "language": "python",
     "metadata": {},
     "outputs": []
    }
   ],
   "metadata": {}
  }
 ]
}